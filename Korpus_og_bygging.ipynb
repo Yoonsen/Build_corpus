{
 "cells": [
  {
   "cell_type": "markdown",
   "id": "4c6b89f6-1599-47d8-ac06-9101f478b7f5",
   "metadata": {},
   "source": [
    "# Eksempel på korpusbygging"
   ]
  },
  {
   "cell_type": "code",
   "execution_count": 14,
   "id": "8b3907b0-a476-4d8b-bb77-e5d6c3e8c880",
   "metadata": {},
   "outputs": [
    {
     "data": {
      "text/markdown": [
       "Updated file `C:\\Users\\yoons\\Documents\\Github\\Build_corpus\\dhlab_v2.py`"
      ],
      "text/plain": [
       "<IPython.core.display.Markdown object>"
      ]
     },
     "metadata": {},
     "output_type": "display_data"
    }
   ],
   "source": [
    "import dhlab.module_update as mu\n",
    "mu.update(\"dhlab_v2\")\n",
    "import dhlab_v2 as d2\n",
    "import dhlab.nbtext as nb\n",
    "import pandas as pd"
   ]
  },
  {
   "cell_type": "code",
   "execution_count": 20,
   "id": "2b65dc8f-37a9-466e-aea4-e8a7b1cd47f5",
   "metadata": {},
   "outputs": [
    {
     "data": {
      "text/html": [
       "<style>@import url(\n",
       "http://fonts.googleapis.com/css?family=Lato|Philosopher|Montserrat|Source+Code+Pro|Merriweather|Shippori+Mincho|Istok+Web|Philosopher|Assistant:200,400,700);\n",
       "\n",
       "/*\n",
       "#notebook-container {\n",
       "\t-webkit-box-shadow: none;\n",
       "\tbox-shadow: none;\n",
       "}\n",
       "*/\n",
       "\n",
       "h1, h2, h3, h4, h5, h6 {\n",
       "\tfont-family: 'Montserrat', sans-serif;\n",
       "\tline-height: 2em;\n",
       "    color: #004f99;\n",
       "    font-weight: 600;\n",
       "}\n",
       "\n",
       "h1 { font-size: 4.5em; }\n",
       "h2 { font-size: 4em; }\n",
       "h3 { font-size: 3.5em; }\n",
       "h4 { font-size: 3em; }\n",
       "h5 { font-size: 2.5em; color:DarkSlateGray; }\n",
       "h6 { font-size: 2em; }\n",
       "\n",
       "p {\n",
       "\tfont-family: 'Shippori+Mincho'; \n",
       "\tfont-size:1.1em;\n",
       "\tcolor: DarkSlateGray;\n",
       "}\n",
       "\n",
       "div.input_area {\n",
       "\tborder:none !important;\n",
       "\tborder-left:1px solid #ff851b !important\n",
       "}\n",
       "\n",
       "span.cm-keyword {\n",
       "\tcolor:#339966 !important;\n",
       "}\n",
       "span.nn {  /*span.cm-variable, span.cm-property*/\n",
       "\tcolor: #3399ff !important;\n",
       "}\n",
       "\n",
       "\n",
       "div.CodeMirror {\n",
       "\tfont-family: 'Inconsolata', monospace;\n",
       "\tfont-size: 1.1em;\n",
       "\t\n",
       "}\n",
       "</style>"
      ],
      "text/plain": [
       "<IPython.core.display.HTML object>"
      ]
     },
     "execution_count": 20,
     "metadata": {},
     "output_type": "execute_result"
    }
   ],
   "source": [
    "mu.css()"
   ]
  },
  {
   "cell_type": "code",
   "execution_count": 30,
   "id": "a63aa314-13ae-4193-ac34-82dbc7f673b1",
   "metadata": {},
   "outputs": [
    {
     "data": {
      "text/html": [
       "<style>\n",
       "p {\n",
       "    1.2em;\n",
       "}\n",
       "html {\n",
       "    left-margin:10;\n",
       "    right-margin:5;\n",
       "}\n",
       "</style>\n"
      ],
      "text/plain": [
       "<IPython.core.display.HTML object>"
      ]
     },
     "metadata": {},
     "output_type": "display_data"
    }
   ],
   "source": [
    "%%HTML\n",
    "<style>\n",
    "p {\n",
    "    1.2em;\n",
    "}\n",
    "html {\n",
    "    left-margin:10;\n",
    "    right-margin:5;\n",
    "}\n",
    "</style>"
   ]
  },
  {
   "cell_type": "markdown",
   "id": "3cef1057-9139-40a4-bd8c-b150bf0d4f53",
   "metadata": {},
   "source": [
    "## Bygger korpus\n",
    "\n",
    "`barn_bok` er de 3000 beste bøkene med ordet \"barn\", og `pårørende_bok` er de 3000 beste bøkene som inneholder ordet pårørende. Merk at det er flere måter å gjøre det her på, så det her er en av mulighetene. Så prøver vi å finne det om er felles. Det ligger i navent `corpus`. \n",
    "\n",
    "Til venstre for likhetstegnet er navnet på korpuset, det som står til høyre definerer det."
   ]
  },
  {
   "cell_type": "code",
   "execution_count": 21,
   "id": "d65ec429-3ad4-4130-809f-fa4315e95d72",
   "metadata": {},
   "outputs": [],
   "source": [
    "barn_bok = nb.best_book_urn('barn', limit = 3000)"
   ]
  },
  {
   "cell_type": "code",
   "execution_count": 22,
   "id": "d0f95a20-9d9c-4bbb-98de-e2520566a46f",
   "metadata": {},
   "outputs": [],
   "source": [
    "pårørende_bok = nb.best_book_urn('pårørende', limit = 3000)"
   ]
  },
  {
   "cell_type": "markdown",
   "id": "7fc57cba-868c-4ab9-bd75-ac4f4082424d",
   "metadata": {},
   "source": [
    "Kombinasjone i `corpus`"
   ]
  },
  {
   "cell_type": "code",
   "execution_count": 23,
   "id": "0fde5542-dd5b-4674-9860-1c3f086427c2",
   "metadata": {},
   "outputs": [],
   "source": [
    "corpus = [x for x in a if x in b]"
   ]
  },
  {
   "cell_type": "code",
   "execution_count": 24,
   "id": "f2b1a7ae-8c8c-4fab-a936-9e6ec325bcfd",
   "metadata": {},
   "outputs": [],
   "source": [
    "corpus = pd.DataFrame([f\"URN:NBN:no-nb_digibok_{x[0]}\" for x in s], columns = ['urn'])"
   ]
  },
  {
   "cell_type": "markdown",
   "id": "b011c497-be99-4904-9693-c228736f4245",
   "metadata": {},
   "source": [
    "`corpus` er liste av URNer, som er identifikatorer"
   ]
  },
  {
   "cell_type": "code",
   "execution_count": 25,
   "id": "c04776e2-839e-4f33-9ebe-9187a69451f7",
   "metadata": {},
   "outputs": [
    {
     "data": {
      "text/html": [
       "<div>\n",
       "<style scoped>\n",
       "    .dataframe tbody tr th:only-of-type {\n",
       "        vertical-align: middle;\n",
       "    }\n",
       "\n",
       "    .dataframe tbody tr th {\n",
       "        vertical-align: top;\n",
       "    }\n",
       "\n",
       "    .dataframe thead th {\n",
       "        text-align: right;\n",
       "    }\n",
       "</style>\n",
       "<table border=\"1\" class=\"dataframe\">\n",
       "  <thead>\n",
       "    <tr style=\"text-align: right;\">\n",
       "      <th></th>\n",
       "      <th>urn</th>\n",
       "    </tr>\n",
       "  </thead>\n",
       "  <tbody>\n",
       "    <tr>\n",
       "      <th>0</th>\n",
       "      <td>URN:NBN:no-nb_digibok_2016090848024</td>\n",
       "    </tr>\n",
       "    <tr>\n",
       "      <th>1</th>\n",
       "      <td>URN:NBN:no-nb_digibok_2011032208111</td>\n",
       "    </tr>\n",
       "    <tr>\n",
       "      <th>2</th>\n",
       "      <td>URN:NBN:no-nb_digibok_2011030408058</td>\n",
       "    </tr>\n",
       "    <tr>\n",
       "      <th>3</th>\n",
       "      <td>URN:NBN:no-nb_digibok_2008090504028</td>\n",
       "    </tr>\n",
       "    <tr>\n",
       "      <th>4</th>\n",
       "      <td>URN:NBN:no-nb_digibok_2012062606076</td>\n",
       "    </tr>\n",
       "  </tbody>\n",
       "</table>\n",
       "</div>"
      ],
      "text/plain": [
       "                                   urn\n",
       "0  URN:NBN:no-nb_digibok_2016090848024\n",
       "1  URN:NBN:no-nb_digibok_2011032208111\n",
       "2  URN:NBN:no-nb_digibok_2011030408058\n",
       "3  URN:NBN:no-nb_digibok_2008090504028\n",
       "4  URN:NBN:no-nb_digibok_2012062606076"
      ]
     },
     "execution_count": 25,
     "metadata": {},
     "output_type": "execute_result"
    }
   ],
   "source": [
    "corpus.head(5)"
   ]
  },
  {
   "cell_type": "markdown",
   "id": "98edf5df-382e-4fa7-b7f9-ccd319773cae",
   "metadata": {},
   "source": [
    "Eksempel på søk i korpuset"
   ]
  },
  {
   "cell_type": "code",
   "execution_count": 17,
   "id": "71892d21-ab4e-475f-a269-8bef42346bca",
   "metadata": {},
   "outputs": [],
   "source": [
    "conc = d2.Concordance(corpus, 'NEAR(barn pårørende, 10)')"
   ]
  },
  {
   "cell_type": "code",
   "execution_count": 19,
   "id": "e10c7034-1208-4fc9-acd4-c125ce504b6c",
   "metadata": {},
   "outputs": [
    {
     "data": {
      "text/html": [
       "<style  type=\"text/css\" >\n",
       "</style><table id=\"T_67e54_\" ><thead>    <tr>        <th class=\"blank level0\" ></th>        <th class=\"col_heading level0 col0\" >link</th>        <th class=\"col_heading level0 col1\" >concordance</th>    </tr></thead><tbody>\n",
       "                <tr>\n",
       "                        <th id=\"T_67e54_level0_row0\" class=\"row_heading level0 row0\" >355</th>\n",
       "                        <td id=\"T_67e54_row0_col0\" class=\"data row0 col0\" ><a target='_blank' href = 'https://urn.nb.no/URN:NBN:no-nb_digibok_2008091204083'>URN:NBN:no-nb_digibok_2008091204083</a></td>\n",
       "                        <td id=\"T_67e54_row0_col1\" class=\"data row0 col1\" ><b>Barn</b> som er <b>pårørende</b> utgjør en risikogruppe i forhold til helsesvikt , og sykepleieren har en funksjon overfor denne gruppen . Situasjonen kan stille krav til mestring... </td>\n",
       "            </tr>\n",
       "            <tr>\n",
       "                        <th id=\"T_67e54_level0_row1\" class=\"row_heading level0 row1\" >191</th>\n",
       "                        <td id=\"T_67e54_row1_col0\" class=\"data row1 col0\" ><a target='_blank' href = 'https://urn.nb.no/URN:NBN:no-nb_digibok_2014061906012'>URN:NBN:no-nb_digibok_2014061906012</a></td>\n",
       "                        <td id=\"T_67e54_row1_col1\" class=\"data row1 col1\" >... Alle tiltak som kan bidra til at foreldrene eller andre <b>pårørende</b> kan være hos små <b>barn</b> under sykehusoppholdet , er viktige for å unngå skade virkninger... </td>\n",
       "            </tr>\n",
       "            <tr>\n",
       "                        <th id=\"T_67e54_level0_row2\" class=\"row_heading level0 row2\" >233</th>\n",
       "                        <td id=\"T_67e54_row2_col0\" class=\"data row2 col0\" ><a target='_blank' href = 'https://urn.nb.no/URN:NBN:no-nb_digibok_2013071608170'>URN:NBN:no-nb_digibok_2013071608170</a></td>\n",
       "                        <td id=\"T_67e54_row2_col1\" class=\"data row2 col1\" >... Tilbudet om oppfølging gis både til <b>barn</b> og <b>pårørende</b> . Omsorgspersoner med god omsorgsevne og styrke er viktige for ivaretakelse av barn i krise , det å... </td>\n",
       "            </tr>\n",
       "            <tr>\n",
       "                        <th id=\"T_67e54_level0_row3\" class=\"row_heading level0 row3\" >258</th>\n",
       "                        <td id=\"T_67e54_row3_col0\" class=\"data row3 col0\" ><a target='_blank' href = 'https://urn.nb.no/URN:NBN:no-nb_digibok_2013071608170'>URN:NBN:no-nb_digibok_2013071608170</a></td>\n",
       "                        <td id=\"T_67e54_row3_col1\" class=\"data row3 col1\" >En del <b>barn</b> og deres <b>pårørende</b> får rådgivning og behandling ved barnehusene over tid ( inntil 15 timer ) . Våre data omhandler ikke erfaringer med behandling og... </td>\n",
       "            </tr>\n",
       "            <tr>\n",
       "                        <th id=\"T_67e54_level0_row4\" class=\"row_heading level0 row4\" >305</th>\n",
       "                        <td id=\"T_67e54_row4_col0\" class=\"data row4 col0\" ><a target='_blank' href = 'https://urn.nb.no/URN:NBN:no-nb_digibok_2016071308220'>URN:NBN:no-nb_digibok_2016071308220</a></td>\n",
       "                        <td id=\"T_67e54_row4_col1\" class=\"data row4 col1\" >... Slik informasjon skal gis både pasient og <b>pårørende</b> og gjelder i stor utstrekning også dersom pasienten er et <b>barn</b> . Å lytte til den informasjonen som... </td>\n",
       "            </tr>\n",
       "            <tr>\n",
       "                        <th id=\"T_67e54_level0_row5\" class=\"row_heading level0 row5\" >58</th>\n",
       "                        <td id=\"T_67e54_row5_col0\" class=\"data row5 col0\" ><a target='_blank' href = 'https://urn.nb.no/URN:NBN:no-nb_digibok_2012062606076'>URN:NBN:no-nb_digibok_2012062606076</a></td>\n",
       "                        <td id=\"T_67e54_row5_col1\" class=\"data row5 col1\" >Felles metoder for å støtte <b>barn</b> og ungdom som <b>pårørende</b> og etterlatte</td>\n",
       "            </tr>\n",
       "            <tr>\n",
       "                        <th id=\"T_67e54_level0_row6\" class=\"row_heading level0 row6\" >38</th>\n",
       "                        <td id=\"T_67e54_row6_col0\" class=\"data row6 col0\" ><a target='_blank' href = 'https://urn.nb.no/URN:NBN:no-nb_digibok_2012062606076'>URN:NBN:no-nb_digibok_2012062606076</a></td>\n",
       "                        <td id=\"T_67e54_row6_col1\" class=\"data row6 col1\" >Felles metoder for å støtte <b>barn</b> og ungdom som <b>pårørende</b> og etterlatte</td>\n",
       "            </tr>\n",
       "            <tr>\n",
       "                        <th id=\"T_67e54_level0_row7\" class=\"row_heading level0 row7\" >242</th>\n",
       "                        <td id=\"T_67e54_row7_col0\" class=\"data row7 col0\" ><a target='_blank' href = 'https://urn.nb.no/URN:NBN:no-nb_digibok_2013071608170'>URN:NBN:no-nb_digibok_2013071608170</a></td>\n",
       "                        <td id=\"T_67e54_row7_col1\" class=\"data row7 col1\" >... <b>barn</b> og <b>pårørende</b> , jurister og politifolk , samt ledere og ansatte ved barnehusene . Overordnet handler rapporten om hvilken forskjell innføringen av barnehusmodellen har gjort for ivaretakelsen... </td>\n",
       "            </tr>\n",
       "            <tr>\n",
       "                        <th id=\"T_67e54_level0_row8\" class=\"row_heading level0 row8\" >467</th>\n",
       "                        <td id=\"T_67e54_row8_col0\" class=\"data row8 col0\" ><a target='_blank' href = 'https://urn.nb.no/URN:NBN:no-nb_digibok_2008030300012'>URN:NBN:no-nb_digibok_2008030300012</a></td>\n",
       "                        <td id=\"T_67e54_row8_col1\" class=\"data row8 col1\" >Tilbudet gis til gruppen <b>pårørende</b> samlet . <b>Barn</b> av rusmis-brukere deltar på lik linje med andre , men ved behov kan det opprettes en egen samtalegruppe... </td>\n",
       "            </tr>\n",
       "            <tr>\n",
       "                        <th id=\"T_67e54_level0_row9\" class=\"row_heading level0 row9\" >319</th>\n",
       "                        <td id=\"T_67e54_row9_col0\" class=\"data row9 col0\" ><a target='_blank' href = 'https://urn.nb.no/URN:NBN:no-nb_digibok_2011121538011'>URN:NBN:no-nb_digibok_2011121538011</a></td>\n",
       "                        <td id=\"T_67e54_row9_col1\" class=\"data row9 col1\" >... lever i ekteskapslignende eller partnerskapslignende forhold med vedkommende , foreldre , myndige <b>barn</b> og myndige søsken . Den <b>pårørende</b> må ha varig og løpende kontakt med rusmiddelmisbrukeren . ( 104 )</td>\n",
       "            </tr>\n",
       "            <tr>\n",
       "                        <th id=\"T_67e54_level0_row10\" class=\"row_heading level0 row10\" >95</th>\n",
       "                        <td id=\"T_67e54_row10_col0\" class=\"data row10 col0\" ><a target='_blank' href = 'https://urn.nb.no/URN:NBN:no-nb_digibok_2012071206135'>URN:NBN:no-nb_digibok_2012071206135</a></td>\n",
       "                        <td id=\"T_67e54_row10_col1\" class=\"data row10 col1\" >... Den omfatter også nabohjelp og hjelp fra <b>pårørende</b> og kan f.eks. gjelde pass av <b>barn</b> .</td>\n",
       "            </tr>\n",
       "            <tr>\n",
       "                        <th id=\"T_67e54_level0_row11\" class=\"row_heading level0 row11\" >295</th>\n",
       "                        <td id=\"T_67e54_row11_col0\" class=\"data row11 col0\" ><a target='_blank' href = 'https://urn.nb.no/URN:NBN:no-nb_digibok_2007071200012'>URN:NBN:no-nb_digibok_2007071200012</a></td>\n",
       "                        <td id=\"T_67e54_row11_col1\" class=\"data row11 col1\" >En rekke av de organisasjoner for pasientgrupper , som er nevnt under de ulike sykdommer , har også tilbud for funksjonshemmede <b>barn</b> og deres <b>pårørende</b> . Her skal... </td>\n",
       "            </tr>\n",
       "            <tr>\n",
       "                        <th id=\"T_67e54_level0_row12\" class=\"row_heading level0 row12\" >422</th>\n",
       "                        <td id=\"T_67e54_row12_col0\" class=\"data row12 col0\" ><a target='_blank' href = 'https://urn.nb.no/URN:NBN:no-nb_digibok_2011032408026'>URN:NBN:no-nb_digibok_2011032408026</a></td>\n",
       "                        <td id=\"T_67e54_row12_col1\" class=\"data row12 col1\" >... Ved å gi pasienten og de <b>pårørende</b> ( foreldre , partner , søsken , <b>barn</b> ) god informasjon om sykdommen , hvordan den utløses , hva som kan gjøres for å forebygge... </td>\n",
       "            </tr>\n",
       "            <tr>\n",
       "                        <th id=\"T_67e54_level0_row13\" class=\"row_heading level0 row13\" >425</th>\n",
       "                        <td id=\"T_67e54_row13_col0\" class=\"data row13 col0\" ><a target='_blank' href = 'https://urn.nb.no/URN:NBN:no-nb_digibok_2008042900053'>URN:NBN:no-nb_digibok_2008042900053</a></td>\n",
       "                        <td id=\"T_67e54_row13_col1\" class=\"data row13 col1\" >... Ikke sjelden angripes endetarmen ( reclum ) hos kvinner . — ■ <b>Barn</b> — særlig småpiker — kan bli smittet av gonoroiske foreldre el . <b>pårørende</b> , oftest ved at samme vaskeklut brukes av... </td>\n",
       "            </tr>\n",
       "            <tr>\n",
       "                        <th id=\"T_67e54_level0_row14\" class=\"row_heading level0 row14\" >296</th>\n",
       "                        <td id=\"T_67e54_row14_col0\" class=\"data row14 col0\" ><a target='_blank' href = 'https://urn.nb.no/URN:NBN:no-nb_digibok_2007071200012'>URN:NBN:no-nb_digibok_2007071200012</a></td>\n",
       "                        <td id=\"T_67e54_row14_col1\" class=\"data row14 col1\" >... Folketrygden yter erstatning for tapt arbeidsfortjeneste dersom nær <b>pårørende</b> eller annen ledsager <b>barn</b> til sykehus . Arbeidsgodtgjørelse ytes for bare inntil åtte timer pr. døgn . Også... </td>\n",
       "            </tr>\n",
       "            <tr>\n",
       "                        <th id=\"T_67e54_level0_row15\" class=\"row_heading level0 row15\" >517</th>\n",
       "                        <td id=\"T_67e54_row15_col0\" class=\"data row15 col0\" ><a target='_blank' href = 'https://urn.nb.no/URN:NBN:no-nb_digibok_2011032506130'>URN:NBN:no-nb_digibok_2011032506130</a></td>\n",
       "                        <td id=\"T_67e54_row15_col1\" class=\"data row15 col1\" >... Mange pasienter ville ikke kommet gjennom de forskjellige behandlingene uten støtte og hjelp fra ektefelle , <b>barn</b> og nære venner ( Magnus 1999 ) . De <b>pårørende</b> kan også... </td>\n",
       "            </tr>\n",
       "            <tr>\n",
       "                        <th id=\"T_67e54_level0_row16\" class=\"row_heading level0 row16\" >473</th>\n",
       "                        <td id=\"T_67e54_row16_col0\" class=\"data row16 col0\" ><a target='_blank' href = 'https://urn.nb.no/URN:NBN:no-nb_digibok_2008030300012'>URN:NBN:no-nb_digibok_2008030300012</a></td>\n",
       "                        <td id=\"T_67e54_row16_col1\" class=\"data row16 col1\" >... Voksne <b>barn</b> av rusmisbrukende foreldre , 2. samlivspartnere til rusmisbrukere 3. Unge <b>pårørende</b> ( ungdom i alder 18 - 22 år ) . Individuelle tilbud .</td>\n",
       "            </tr>\n",
       "            <tr>\n",
       "                        <th id=\"T_67e54_level0_row17\" class=\"row_heading level0 row17\" >111</th>\n",
       "                        <td id=\"T_67e54_row17_col0\" class=\"data row17 col0\" ><a target='_blank' href = 'https://urn.nb.no/URN:NBN:no-nb_digibok_2012090408162'>URN:NBN:no-nb_digibok_2012090408162</a></td>\n",
       "                        <td id=\"T_67e54_row17_col1\" class=\"data row17 col1\" >... Pasientenes <b>barn</b> regnes altså ikke som <b>pårørende</b> i lovens forstand og omfattes dermed ikke av de lovbestemmelsene som gir pårørende rettigheter , for eksempel i form... </td>\n",
       "            </tr>\n",
       "            <tr>\n",
       "                        <th id=\"T_67e54_level0_row18\" class=\"row_heading level0 row18\" >251</th>\n",
       "                        <td id=\"T_67e54_row18_col0\" class=\"data row18 col0\" ><a target='_blank' href = 'https://urn.nb.no/URN:NBN:no-nb_digibok_2013071608170'>URN:NBN:no-nb_digibok_2013071608170</a></td>\n",
       "                        <td id=\"T_67e54_row18_col1\" class=\"data row18 col1\" >... forberedt på hva som skal skje , og at oppfølgingen av både <b>barn</b> og <b>pårørende</b> i etterkant av avhør blir bedre på et barnehus enn hos... </td>\n",
       "            </tr>\n",
       "            <tr>\n",
       "                        <th id=\"T_67e54_level0_row19\" class=\"row_heading level0 row19\" >129</th>\n",
       "                        <td id=\"T_67e54_row19_col0\" class=\"data row19 col0\" ><a target='_blank' href = 'https://urn.nb.no/URN:NBN:no-nb_digibok_2008011501070'>URN:NBN:no-nb_digibok_2008011501070</a></td>\n",
       "                        <td id=\"T_67e54_row19_col1\" class=\"data row19 col1\" >... Skjer det en slags hopning av omsorgsressurser ? Får eldre med aktive <b>pårørende</b> mye uformell og offentlig hjelp uansett om de har <b>barn</b> eller ikke ? Eller... </td>\n",
       "            </tr>\n",
       "            <tr>\n",
       "                        <th id=\"T_67e54_level0_row20\" class=\"row_heading level0 row20\" >358</th>\n",
       "                        <td id=\"T_67e54_row20_col0\" class=\"data row20 col0\" ><a target='_blank' href = 'https://urn.nb.no/URN:NBN:no-nb_digibok_2008091204083'>URN:NBN:no-nb_digibok_2008091204083</a></td>\n",
       "                        <td id=\"T_67e54_row20_col1\" class=\"data row20 col1\" >Sykepleierens funksjon når <b>barn</b> er <b>pårørende</b></td>\n",
       "            </tr>\n",
       "            <tr>\n",
       "                        <th id=\"T_67e54_level0_row21\" class=\"row_heading level0 row21\" >128</th>\n",
       "                        <td id=\"T_67e54_row21_col0\" class=\"data row21 col0\" ><a target='_blank' href = 'https://urn.nb.no/URN:NBN:no-nb_digibok_2008011501070'>URN:NBN:no-nb_digibok_2008011501070</a></td>\n",
       "                        <td id=\"T_67e54_row21_col1\" class=\"data row21 col1\" >... 282 <b>pårørende</b> til eldre som har <b>barn</b> , er intervjuet og 102 av <b>pårørende</b> til eldre som ikke har <b>barn</b> , er intervjuet .</td>\n",
       "            </tr>\n",
       "            <tr>\n",
       "                        <th id=\"T_67e54_level0_row22\" class=\"row_heading level0 row22\" >337</th>\n",
       "                        <td id=\"T_67e54_row22_col0\" class=\"data row22 col0\" ><a target='_blank' href = 'https://urn.nb.no/URN:NBN:no-nb_digibok_2008022000109'>URN:NBN:no-nb_digibok_2008022000109</a></td>\n",
       "                        <td id=\"T_67e54_row22_col1\" class=\"data row22 col1\" >Det er grunnleggende viktig at et eventuelt internattilbud er ønsket av både elever og <b>pårørende</b> . Vi kan ikke la <b>barn</b> « venne seg til » en atskillelse... </td>\n",
       "            </tr>\n",
       "            <tr>\n",
       "                        <th id=\"T_67e54_level0_row23\" class=\"row_heading level0 row23\" >481</th>\n",
       "                        <td id=\"T_67e54_row23_col0\" class=\"data row23 col0\" ><a target='_blank' href = 'https://urn.nb.no/URN:NBN:no-nb_digibok_2008030300012'>URN:NBN:no-nb_digibok_2008030300012</a></td>\n",
       "                        <td id=\"T_67e54_row23_col1\" class=\"data row23 col1\" >... Ungdom , voksne <b>barn</b> , samlivspartnere og andre <b>pårørende</b> . Yngre <b>barn</b> av misbruker bør helst være over tolv år og foresatte må være tilstede i behandlingen . Nære... </td>\n",
       "            </tr>\n",
       "            <tr>\n",
       "                        <th id=\"T_67e54_level0_row24\" class=\"row_heading level0 row24\" >413</th>\n",
       "                        <td id=\"T_67e54_row24_col0\" class=\"data row24 col0\" ><a target='_blank' href = 'https://urn.nb.no/URN:NBN:no-nb_digibok_2016011448107'>URN:NBN:no-nb_digibok_2016011448107</a></td>\n",
       "                        <td id=\"T_67e54_row24_col1\" class=\"data row24 col1\" >... Voldsutsatte eller misbrukte <b>barn</b> og deres <b>pårørende</b> fanges derfor kun opp av de generelle støtteordninger når det er behov for hjelp . Med andre ord må... </td>\n",
       "            </tr>\n",
       "            <tr>\n",
       "                        <th id=\"T_67e54_level0_row25\" class=\"row_heading level0 row25\" >106</th>\n",
       "                        <td id=\"T_67e54_row25_col0\" class=\"data row25 col0\" ><a target='_blank' href = 'https://urn.nb.no/URN:NBN:no-nb_digibok_2012090408162'>URN:NBN:no-nb_digibok_2012090408162</a></td>\n",
       "                        <td id=\"T_67e54_row25_col1\" class=\"data row25 col1\" >Vi tenker at tiden nå er inne til at <b>barn</b> bør anerkjennes som <b>pårørende</b> ( nærstående ) til sine foreldre . Dette bør også framgå av lovverket ( eks... </td>\n",
       "            </tr>\n",
       "            <tr>\n",
       "                        <th id=\"T_67e54_level0_row26\" class=\"row_heading level0 row26\" >324</th>\n",
       "                        <td id=\"T_67e54_row26_col0\" class=\"data row26 col0\" ><a target='_blank' href = 'https://urn.nb.no/URN:NBN:no-nb_digibok_2011062105020'>URN:NBN:no-nb_digibok_2011062105020</a></td>\n",
       "                        <td id=\"T_67e54_row26_col1\" class=\"data row26 col1\" >Sykehuset / poliklinikken / senteret er opptatt av å arbeide for å forbedre samarbeidet med <b>pårørende</b> til personer med psykiske lidelser . <b>Barn</b> er også <b>pårørende</b> , men likevel... </td>\n",
       "            </tr>\n",
       "            <tr>\n",
       "                        <th id=\"T_67e54_level0_row27\" class=\"row_heading level0 row27\" >39</th>\n",
       "                        <td id=\"T_67e54_row27_col0\" class=\"data row27 col0\" ><a target='_blank' href = 'https://urn.nb.no/URN:NBN:no-nb_digibok_2012062606076'>URN:NBN:no-nb_digibok_2012062606076</a></td>\n",
       "                        <td id=\"T_67e54_row27_col1\" class=\"data row27 col1\" >Felles metoder for å støtte <b>barn</b> og ungdom som <b>pårørende</b> og etterlatte</td>\n",
       "            </tr>\n",
       "            <tr>\n",
       "                        <th id=\"T_67e54_level0_row28\" class=\"row_heading level0 row28\" >388</th>\n",
       "                        <td id=\"T_67e54_row28_col0\" class=\"data row28 col0\" ><a target='_blank' href = 'https://urn.nb.no/URN:NBN:no-nb_digibok_2008031300011'>URN:NBN:no-nb_digibok_2008031300011</a></td>\n",
       "                        <td id=\"T_67e54_row28_col1\" class=\"data row28 col1\" >... å være pasient i sitt eget hjem ? Vi vil drøfte hva som skiller <b>barn</b> og voksnes møte med sykehus , og hvordan de <b>pårørende</b> opplever situasjonen .</td>\n",
       "            </tr>\n",
       "            <tr>\n",
       "                        <th id=\"T_67e54_level0_row29\" class=\"row_heading level0 row29\" >118</th>\n",
       "                        <td id=\"T_67e54_row29_col0\" class=\"data row29 col0\" ><a target='_blank' href = 'https://urn.nb.no/URN:NBN:no-nb_digibok_2010043008023'>URN:NBN:no-nb_digibok_2010043008023</a></td>\n",
       "                        <td id=\"T_67e54_row29_col1\" class=\"data row29 col1\" >... med omsorg for et alvorlig sykt <b>barn</b> står i § 9 - 11 - pleiepenger for pleie av en nær <b>pårørende</b> står i § 9 - 12 - antall stønadsdager for... </td>\n",
       "            </tr>\n",
       "            <tr>\n",
       "                        <th id=\"T_67e54_level0_row30\" class=\"row_heading level0 row30\" >185</th>\n",
       "                        <td id=\"T_67e54_row30_col0\" class=\"data row30 col0\" ><a target='_blank' href = 'https://urn.nb.no/URN:NBN:no-nb_digibok_2014030406072'>URN:NBN:no-nb_digibok_2014030406072</a></td>\n",
       "                        <td id=\"T_67e54_row30_col1\" class=\"data row30 col1\" >... deltakerne opplever å bli styrket både personlig og som mødre og <b>pårørende</b> til <b>barn</b> med spesielle behov . Mye av nytteverdien synes å handle om at... </td>\n",
       "            </tr>\n",
       "            <tr>\n",
       "                        <th id=\"T_67e54_level0_row31\" class=\"row_heading level0 row31\" >3</th>\n",
       "                        <td id=\"T_67e54_row31_col0\" class=\"data row31 col0\" ><a target='_blank' href = 'https://urn.nb.no/URN:NBN:no-nb_digibok_2012062606076'>URN:NBN:no-nb_digibok_2012062606076</a></td>\n",
       "                        <td id=\"T_67e54_row31_col1\" class=\"data row31 col1\" >3.2 <b>Barn</b> og ungdoms rettigheter som <b>pårørende</b> og etterlatte 60</td>\n",
       "            </tr>\n",
       "            <tr>\n",
       "                        <th id=\"T_67e54_level0_row32\" class=\"row_heading level0 row32\" >392</th>\n",
       "                        <td id=\"T_67e54_row32_col0\" class=\"data row32 col0\" ><a target='_blank' href = 'https://urn.nb.no/URN:NBN:no-nb_digibok_2008062600025'>URN:NBN:no-nb_digibok_2008062600025</a></td>\n",
       "                        <td id=\"T_67e54_row32_col1\" class=\"data row32 col1\" >... Likeså daglig kontakt med <b>barn</b> eller andre <b>pårørende</b> . For noen kan angsten utvikle seg til en mer omfattende angsttilstand ( se kapitlet Angst ) .</td>\n",
       "            </tr>\n",
       "            <tr>\n",
       "                        <th id=\"T_67e54_level0_row33\" class=\"row_heading level0 row33\" >322</th>\n",
       "                        <td id=\"T_67e54_row33_col0\" class=\"data row33 col0\" ><a target='_blank' href = 'https://urn.nb.no/URN:NBN:no-nb_digibok_2011062105020'>URN:NBN:no-nb_digibok_2011062105020</a></td>\n",
       "                        <td id=\"T_67e54_row33_col1\" class=\"data row33 col1\" >... hvordan lidelsen påvirket dem i rollen som foreldre til sine <b>barn</b> . Intervjuene med <b>pårørende</b> ble derfor bare utfyllende tilleggsinformasjon som bygde opp under de historiene... </td>\n",
       "            </tr>\n",
       "            <tr>\n",
       "                        <th id=\"T_67e54_level0_row34\" class=\"row_heading level0 row34\" >188</th>\n",
       "                        <td id=\"T_67e54_row34_col0\" class=\"data row34 col0\" ><a target='_blank' href = 'https://urn.nb.no/URN:NBN:no-nb_digibok_2014061808005'>URN:NBN:no-nb_digibok_2014061808005</a></td>\n",
       "                        <td id=\"T_67e54_row34_col1\" class=\"data row34 col1\" >... Både terapeuter , <b>barn</b> og <b>pårørende</b> \" medbringer \" de komplekse og motstridende diskursene om overgrep .</td>\n",
       "            </tr>\n",
       "            <tr>\n",
       "                        <th id=\"T_67e54_level0_row35\" class=\"row_heading level0 row35\" >329</th>\n",
       "                        <td id=\"T_67e54_row35_col0\" class=\"data row35 col0\" ><a target='_blank' href = 'https://urn.nb.no/URN:NBN:no-nb_digibok_2011080406145'>URN:NBN:no-nb_digibok_2011080406145</a></td>\n",
       "                        <td id=\"T_67e54_row35_col1\" class=\"data row35 col1\" >... og støtte , husarbeid og omsorg for eventuelle <b>barn</b> , hjelp til sykemelding , legetime og så videre . Som <b>pårørende</b> må du godta at den som er deprimert... </td>\n",
       "            </tr>\n",
       "            <tr>\n",
       "                        <th id=\"T_67e54_level0_row36\" class=\"row_heading level0 row36\" >440</th>\n",
       "                        <td id=\"T_67e54_row36_col0\" class=\"data row36 col0\" ><a target='_blank' href = 'https://urn.nb.no/URN:NBN:no-nb_digibok_2011061605009'>URN:NBN:no-nb_digibok_2011061605009</a></td>\n",
       "                        <td id=\"T_67e54_row36_col1\" class=\"data row36 col1\" >■ SAMARBEID MED <b>BARN</b> , UNGE OG DERES <b>PÅRØRENDE</b> I FORHOLD TIL ENKELTTILTAK OG UTVIKLING AV TJENESTER</td>\n",
       "            </tr>\n",
       "            <tr>\n",
       "                        <th id=\"T_67e54_level0_row37\" class=\"row_heading level0 row37\" >218</th>\n",
       "                        <td id=\"T_67e54_row37_col0\" class=\"data row37 col0\" ><a target='_blank' href = 'https://urn.nb.no/URN:NBN:no-nb_digibok_2013050306087'>URN:NBN:no-nb_digibok_2013050306087</a></td>\n",
       "                        <td id=\"T_67e54_row37_col1\" class=\"data row37 col1\" >vil være viktige samtaleparter for både helse og skolepersonell i møte med <b>barn</b> som <b>pårørende</b> . Mange opplever behov for veiledning i vanskelige saker og begge... </td>\n",
       "            </tr>\n",
       "            <tr>\n",
       "                        <th id=\"T_67e54_level0_row38\" class=\"row_heading level0 row38\" >30</th>\n",
       "                        <td id=\"T_67e54_row38_col0\" class=\"data row38 col0\" ><a target='_blank' href = 'https://urn.nb.no/URN:NBN:no-nb_digibok_2012062606076'>URN:NBN:no-nb_digibok_2012062606076</a></td>\n",
       "                        <td id=\"T_67e54_row38_col1\" class=\"data row38 col1\" >Gi kunnskap både om sykdom og om reaksjoner på sykdommen hos pasienten , voksne <b>pårørende</b> og <b>barn</b> og ungdom som <b>pårørende</b> . Gi kunnskap om hvordan man... </td>\n",
       "            </tr>\n",
       "            <tr>\n",
       "                        <th id=\"T_67e54_level0_row39\" class=\"row_heading level0 row39\" >130</th>\n",
       "                        <td id=\"T_67e54_row39_col0\" class=\"data row39 col0\" ><a target='_blank' href = 'https://urn.nb.no/URN:NBN:no-nb_digibok_2015062508049'>URN:NBN:no-nb_digibok_2015062508049</a></td>\n",
       "                        <td id=\"T_67e54_row39_col1\" class=\"data row39 col1\" >... Dernest er det <b>pårørende</b> , så som ektefelle , foreldre , <b>barn</b> og søsken samt verge . Prest og lege kan også fremsette anmodning , men vel å merke bare... </td>\n",
       "            </tr>\n",
       "            <tr>\n",
       "                        <th id=\"T_67e54_level0_row40\" class=\"row_heading level0 row40\" >330</th>\n",
       "                        <td id=\"T_67e54_row40_col0\" class=\"data row40 col0\" ><a target='_blank' href = 'https://urn.nb.no/URN:NBN:no-nb_digibok_2011072908023'>URN:NBN:no-nb_digibok_2011072908023</a></td>\n",
       "                        <td id=\"T_67e54_row40_col1\" class=\"data row40 col1\" >... Pasientens nærmeste <b>pårørende</b> er gjerne ektefelle eller samboer , søsken , <b>barn</b> , foreldre , barnebarn og besteforeldre . Fjernere familiemedlemmer og slektninger , naboer og arbeidskamerater kan også i gitte... </td>\n",
       "            </tr>\n",
       "            <tr>\n",
       "                        <th id=\"T_67e54_level0_row41\" class=\"row_heading level0 row41\" >500</th>\n",
       "                        <td id=\"T_67e54_row41_col0\" class=\"data row41 col0\" ><a target='_blank' href = 'https://urn.nb.no/URN:NBN:no-nb_digibok_2011032305115'>URN:NBN:no-nb_digibok_2011032305115</a></td>\n",
       "                        <td id=\"T_67e54_row41_col1\" class=\"data row41 col1\" >... Som en <b>pårørende</b>-far sa det : « Et <b>barn</b> takker da ikke sine foreldre for at de ble født » . En annen pårørende sa at et standardisert... </td>\n",
       "            </tr>\n",
       "            <tr>\n",
       "                        <th id=\"T_67e54_level0_row42\" class=\"row_heading level0 row42\" >402</th>\n",
       "                        <td id=\"T_67e54_row42_col0\" class=\"data row42 col0\" ><a target='_blank' href = 'https://urn.nb.no/URN:NBN:no-nb_digibok_2015111007549'>URN:NBN:no-nb_digibok_2015111007549</a></td>\n",
       "                        <td id=\"T_67e54_row42_col1\" class=\"data row42 col1\" >For at en innleggelse uten eget samtykke skal være lovlig , trengs en innleggelsesbegjæring fra pasientens nærmeste <b>pårørende</b> ( foreldre , <b>barn</b> , ektefelle eller søsken ) , eventuelt helse- og... </td>\n",
       "            </tr>\n",
       "            <tr>\n",
       "                        <th id=\"T_67e54_level0_row43\" class=\"row_heading level0 row43\" >135</th>\n",
       "                        <td id=\"T_67e54_row43_col0\" class=\"data row43 col0\" ><a target='_blank' href = 'https://urn.nb.no/URN:NBN:no-nb_digibok_2015012708063'>URN:NBN:no-nb_digibok_2015012708063</a></td>\n",
       "                        <td id=\"T_67e54_row43_col1\" class=\"data row43 col1\" >Argumentene for å bruke barnehus , knyttes til barnehusenes sentrale funksjoner ; at de gir et helhetlig tilbud , at <b>barn</b> og <b>pårørende</b> er godt ivaretatt , og at... </td>\n",
       "            </tr>\n",
       "            <tr>\n",
       "                        <th id=\"T_67e54_level0_row44\" class=\"row_heading level0 row44\" >515</th>\n",
       "                        <td id=\"T_67e54_row44_col0\" class=\"data row44 col0\" ><a target='_blank' href = 'https://urn.nb.no/URN:NBN:no-nb_digibok_2011032506130'>URN:NBN:no-nb_digibok_2011032506130</a></td>\n",
       "                        <td id=\"T_67e54_row44_col1\" class=\"data row44 col1\" >... Også <b>barn</b> kan få status som <b>pårørende</b> . Hvert år opplever omkring 3000 <b>barn</b> under 18 år at mor eller far får kreft . <b>Pårørende</b> er tradisjonelt... </td>\n",
       "            </tr>\n",
       "            <tr>\n",
       "                        <th id=\"T_67e54_level0_row45\" class=\"row_heading level0 row45\" >229</th>\n",
       "                        <td id=\"T_67e54_row45_col0\" class=\"data row45 col0\" ><a target='_blank' href = 'https://urn.nb.no/URN:NBN:no-nb_digibok_2013071608170'>URN:NBN:no-nb_digibok_2013071608170</a></td>\n",
       "                        <td id=\"T_67e54_row45_col1\" class=\"data row45 col1\" >... to timer må kunne aksepteres både for dem seiv og for <b>barn</b> og <b>pårørende</b> . En mulig tolkning er at svarene ikke reflekterer at reisetid på... </td>\n",
       "            </tr>\n",
       "            <tr>\n",
       "                        <th id=\"T_67e54_level0_row46\" class=\"row_heading level0 row46\" >445</th>\n",
       "                        <td id=\"T_67e54_row46_col0\" class=\"data row46 col0\" ><a target='_blank' href = 'https://urn.nb.no/URN:NBN:no-nb_digibok_2011032508074'>URN:NBN:no-nb_digibok_2011032508074</a></td>\n",
       "                        <td id=\"T_67e54_row46_col1\" class=\"data row46 col1\" >Interesse- og serviceorganisasjon for foreldre til <b>barn</b> med CP og for voksne med CP samt for <b>pårørende</b> . CP-foreningen arbeider for å forebygge og begrense... </td>\n",
       "            </tr>\n",
       "            <tr>\n",
       "                        <th id=\"T_67e54_level0_row47\" class=\"row_heading level0 row47\" >198</th>\n",
       "                        <td id=\"T_67e54_row47_col0\" class=\"data row47 col0\" ><a target='_blank' href = 'https://urn.nb.no/URN:NBN:no-nb_digibok_2014032738011'>URN:NBN:no-nb_digibok_2014032738011</a></td>\n",
       "                        <td id=\"T_67e54_row47_col1\" class=\"data row47 col1\" >... Med en <b>pårørende</b> forstås i disse retningslinjer ektefelle , <b>barn</b> , foreldre , søsken , verge eller andre forutsatt at vedkommende har varig og god kontakt med pasienten . Dersom... </td>\n",
       "            </tr>\n",
       "            <tr>\n",
       "                        <th id=\"T_67e54_level0_row48\" class=\"row_heading level0 row48\" >271</th>\n",
       "                        <td id=\"T_67e54_row48_col0\" class=\"data row48 col0\" ><a target='_blank' href = 'https://urn.nb.no/URN:NBN:no-nb_digibok_2013062406023'>URN:NBN:no-nb_digibok_2013062406023</a></td>\n",
       "                        <td id=\"T_67e54_row48_col1\" class=\"data row48 col1\" >... I møtet mellom fysioterapeut , <b>barn</b> og <b>pårørende</b> er relasjonen mellom deltakerne i utgangspunktet langt på vei gitt ved at forholdet har basis i profesjonell virksomhet... </td>\n",
       "            </tr>\n",
       "            <tr>\n",
       "                        <th id=\"T_67e54_level0_row49\" class=\"row_heading level0 row49\" >215</th>\n",
       "                        <td id=\"T_67e54_row49_col0\" class=\"data row49 col0\" ><a target='_blank' href = 'https://urn.nb.no/URN:NBN:no-nb_digibok_2013071608158'>URN:NBN:no-nb_digibok_2013071608158</a></td>\n",
       "                        <td id=\"T_67e54_row49_col1\" class=\"data row49 col1\" >I RITAs historie har det meste fungert slik man ønsker for et engstelig <b>barn</b> som <b>pårørende</b> til en mor med alvorlig sykdom . Rask hjelp fra... </td>\n",
       "            </tr>\n",
       "    </tbody></table>"
      ],
      "text/plain": [
       "<pandas.io.formats.style.Styler at 0x1c23fec2640>"
      ]
     },
     "execution_count": 19,
     "metadata": {},
     "output_type": "execute_result"
    }
   ],
   "source": [
    "conc.show(50)"
   ]
  }
 ],
 "metadata": {
  "kernelspec": {
   "display_name": "Python 3",
   "language": "python",
   "name": "python3"
  },
  "language_info": {
   "codemirror_mode": {
    "name": "ipython",
    "version": 3
   },
   "file_extension": ".py",
   "mimetype": "text/x-python",
   "name": "python",
   "nbconvert_exporter": "python",
   "pygments_lexer": "ipython3",
   "version": "3.8.10"
  }
 },
 "nbformat": 4,
 "nbformat_minor": 5
}
